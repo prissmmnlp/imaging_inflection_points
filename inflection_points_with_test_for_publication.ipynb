{
 "cells": [
  {
   "cell_type": "code",
   "execution_count": 3,
   "metadata": {},
   "outputs": [],
   "source": [
    "import torch\n"
   ]
  },
  {
   "cell_type": "code",
   "execution_count": 4,
   "metadata": {},
   "outputs": [
    {
     "data": {
      "text/plain": [
       "True"
      ]
     },
     "execution_count": 4,
     "metadata": {},
     "output_type": "execute_result"
    }
   ],
   "source": [
    "# check that the GPU is working\n",
    "torch.backends.cudnn.is_acceptable(torch.cuda.FloatTensor(1))"
   ]
  },
  {
   "cell_type": "code",
   "execution_count": 5,
   "metadata": {},
   "outputs": [],
   "source": [
    "# import utility functions for evaluating model output\n",
    "from utils_120919_pytorch import *"
   ]
  },
  {
   "cell_type": "code",
   "execution_count": 6,
   "metadata": {},
   "outputs": [],
   "source": [
    "import pandas as pd\n",
    "import numpy as np\n",
    "import pickle\n",
    "\n"
   ]
  },
  {
   "cell_type": "code",
   "execution_count": 7,
   "metadata": {},
   "outputs": [],
   "source": [
    "# point to correct datafolder for machine type we are running on\n",
    "\n",
    "\n",
    "# pixie\n",
    "raw_data_folder = '/data/clin_notes_outcomes/matchminer/training_data/inflection/'\n",
    "derived_data_folder = '/data/clin_notes_outcomes/matchminer/derived_datasets/inflection/'\n",
    "model_folder = '/data/clin_notes_outcomes/matchminer/models/inflection/'\n",
    "\n"
   ]
  },
  {
   "cell_type": "code",
   "execution_count": 8,
   "metadata": {},
   "outputs": [
    {
     "name": "stdout",
     "output_type": "stream",
     "text": [
      "Max NDI death date\n",
      "2018-12-31 00:00:00\n",
      "<class 'pandas.core.frame.DataFrame'>\n",
      "RangeIndex: 40768 entries, 0 to 40767\n",
      "Data columns (total 3 columns):\n",
      " #   Column                    Non-Null Count  Dtype \n",
      "---  ------                    --------------  ----- \n",
      " 0   patient_id                40768 non-null  int64 \n",
      " 1   primary_cancer_diagnosis  26639 non-null  object\n",
      " 2   report_dt                 40768 non-null  object\n",
      "dtypes: int64(1), object(2)\n",
      "memory usage: 955.6+ KB\n"
     ]
    }
   ],
   "source": [
    "# define cohorts\n",
    "\n",
    "# find first PROFILE specimen for each patient\n",
    "registration = pd.read_csv(raw_data_folder + 'PT_INFO_STATUS_REGISTRATION.TXT', sep='|', encoding='ISO-8859-1', low_memory=False)[['patient_id', 'dfci_mrn', 'ndi_death_dt']]\n",
    "registration = registration[~registration.dfci_mrn.isnull() & (~registration.patient_id.isnull())]\n",
    "registration.patient_id = pd.to_numeric(registration.patient_id)\n",
    "registration.dfci_mrn = pd.to_numeric(registration.dfci_mrn)\n",
    "registration.ndi_death_dt = pd.to_datetime(registration.ndi_death_dt)\n",
    "print(\"Max NDI death date\")\n",
    "print(np.max(registration.ndi_death_dt))\n",
    "specimens = pd.read_csv(raw_data_folder + 'GENOMIC_SPECIMEN.TXT', sep='|', encoding='ISO-8859-1', low_memory=False)[['patient_id', 'primary_cancer_diagnosis', 'report_dt']]\n",
    "specimens.info()"
   ]
  },
  {
   "cell_type": "code",
   "execution_count": 9,
   "metadata": {},
   "outputs": [],
   "source": [
    "specimens = specimens[~specimens.patient_id.isnull()]\n",
    "specimens['specimen_date'] = pd.to_datetime(specimens.report_dt)\n",
    "specimens = specimens.sort_values(by=['patient_id','specimen_date']).groupby(['patient_id']).first()\n",
    "specimens = pd.merge(registration, specimens, on='patient_id', how='inner')\n",
    "specimens = specimens[~specimens.dfci_mrn.isnull()]\n",
    "specimens = specimens[~specimens.primary_cancer_diagnosis.isnull()]\n",
    "\n",
    "# no leukemia\n",
    "specimens = specimens[~specimens.primary_cancer_diagnosis.str.contains(\"leukemia\", case=False)]\n",
    "\n",
    "lung_mrns = specimens[specimens.primary_cancer_diagnosis.str.contains(\"lung\", case=False)].index\n",
    "breast_mrns = specimens[specimens.primary_cancer_diagnosis.str.contains(\"breast\", case=False)].index\n",
    "panc_mrns = specimens[specimens.primary_cancer_diagnosis.str.contains(\"panc\", case=False)].index\n",
    "\n"
   ]
  },
  {
   "cell_type": "code",
   "execution_count": 12,
   "metadata": {},
   "outputs": [],
   "source": [
    "# pull in previously derived datasets containing report text and outcome variables\n",
    "\n",
    "training = pd.read_csv(derived_data_folder+'train_prognosis.csv', dtype={'text':'str', 'report_type':'str', 'died_90d':'int32', 'died_180d':'int32','died_270d':'int32','died_360d':'int32', 'new_rx_30d':'int32'})\n",
    "validation = pd.read_csv(derived_data_folder+'valid_prognosis.csv', dtype={'text':'str', 'report_type':'str', 'died_90d':'int32', 'died_180d':'int32','died_270d':'int32','died_360d':'int32', 'new_rx_30d':'int32'})\n",
    "test = pd.read_csv(derived_data_folder+'test_prognosis.csv', dtype={'text':'str', 'report_type':'str', 'died_90d':'int32', 'died_180d':'int32','died_270d':'int32','died_360d':'int32', 'new_rx_30d':'int32'})\n",
    "\n"
   ]
  },
  {
   "cell_type": "code",
   "execution_count": 15,
   "metadata": {},
   "outputs": [],
   "source": [
    "training['date'] = pd.to_datetime(training['encounter_date'])\n",
    "validation['date'] = pd.to_datetime(validation['encounter_date'])\n",
    "test['date'] = pd.to_datetime(test['encounter_date'])\n",
    "\n",
    "\n"
   ]
  },
  {
   "cell_type": "code",
   "execution_count": 16,
   "metadata": {},
   "outputs": [],
   "source": [
    "\n",
    "\n",
    "training = training[['dfci_mrn', 'date', 'text', 'report_type', 'encounter_to_end', 'event', 'event_date', 'hybrid_death_dt', 'hybrid_death_ind', 'died_90d', 'died_180d', 'died_270d', 'died_360d', 'new_rx_30d']]\n",
    "validation = validation[['dfci_mrn', 'date', 'text', 'report_type', 'encounter_to_end', 'event', 'event_date', 'hybrid_death_dt', 'hybrid_death_ind', 'died_90d', 'died_180d', 'died_270d', 'died_360d', 'new_rx_30d']]\n",
    "test = test[['dfci_mrn', 'date', 'text', 'report_type', 'encounter_to_end', 'event', 'event_date', 'hybrid_death_dt', 'hybrid_death_ind', 'died_90d', 'died_180d', 'died_270d', 'died_360d', 'new_rx_30d']]\n",
    "\n"
   ]
  },
  {
   "cell_type": "code",
   "execution_count": 18,
   "metadata": {},
   "outputs": [],
   "source": [
    "training = training[training['report_type'] == 'Imaging']\n",
    "training = training[training['text'].notnull()]\n",
    "training = training[~training['text'].str.contains('portable|pa and lateral')]\n",
    "training = training[training['event_date'].notnull()]\n",
    "training = training.rename(columns={'date':'encounter_date'})\n",
    "\n",
    "validation = validation[validation['report_type'] == 'Imaging']\n",
    "validation = validation[validation['text'].notnull()]\n",
    "validation = validation[~validation['text'].str.contains('portable|pa and lateral')]\n",
    "validation = validation[validation['event_date'].notnull()]\n",
    "validation = validation.rename(columns={'date':'encounter_date'})\n",
    "\n",
    "test = test[test['report_type'] == 'Imaging']\n",
    "test = test[test['text'].notnull()]\n",
    "test = test[~test['text'].str.contains('portable|pa and lateral')]\n",
    "test = test[test['event_date'].notnull()]\n",
    "test = test.rename(columns={'date':'encounter_date'})"
   ]
  },
  {
   "cell_type": "code",
   "execution_count": 20,
   "metadata": {},
   "outputs": [],
   "source": [
    "# pull in previously defined patient-level train/validation/test splits\n",
    "bigsplit = pd.read_csv(derived_data_folder +'train_val_test_sequenced_unsequenced_io_moresequenced_2-2020.csv')\n",
    "training_mrns = bigsplit[bigsplit.split == 'train']\n",
    "validation_mrns = bigsplit[bigsplit.split == 'validation']\n",
    "true_test_mrns = bigsplit[bigsplit.split == 'test']\n"
   ]
  },
  {
   "cell_type": "code",
   "execution_count": 21,
   "metadata": {},
   "outputs": [],
   "source": [
    "# find first palliative rx\n",
    "treatments = pd.read_csv(raw_data_folder+'TREATMENT_PLAN.TXT', sep='|', encoding='ISO-8859-1', low_memory=False)\n"
   ]
  },
  {
   "cell_type": "code",
   "execution_count": 22,
   "metadata": {},
   "outputs": [
    {
     "data": {
      "text/plain": [
       "PALLIATIVE              21802\n",
       "CURATIVE                11074\n",
       "CONTROL                  6618\n",
       "ADJUVANT/NEOADJUVANT      840\n",
       "MAINTENANCE               661\n",
       "SUPPORTIVE                438\n",
       "PREVENTATIVE               54\n",
       "Name: tplan_goal, dtype: int64"
      ]
     },
     "execution_count": 22,
     "metadata": {},
     "output_type": "execute_result"
    }
   ],
   "source": [
    "treatments.tplan_goal.value_counts()"
   ]
  },
  {
   "cell_type": "code",
   "execution_count": null,
   "metadata": {},
   "outputs": [],
   "source": [
    "pall_rx = treatments[treatments['tplan_goal'].isin(['PALLIATIVE', 'CONTROL'])][['patient_id', 'tplan_start_dt', 'std_chemo_plan']]\n",
    "print(pall_rx.info())\n",
    "pall_rx['pall_start_dt'] = pd.to_datetime(pall_rx.tplan_start_dt)\n",
    "pall_rx = pd.merge(registration, pall_rx, on='patient_id', how='inner')\n",
    "pall_rx = pall_rx.drop(['patient_id', 'tplan_start_dt', 'ndi_death_dt'], axis=1)\n",
    "pall_rx = pall_rx.sort_values(by=['dfci_mrn', 'pall_start_dt'])\n",
    "\n",
    "pall_rx = pall_rx.groupby('dfci_mrn').first().reset_index()\n",
    "\n",
    "\n",
    "ml_pall_rx = pall_rx\n"
   ]
  },
  {
   "cell_type": "code",
   "execution_count": 24,
   "metadata": {},
   "outputs": [],
   "source": [
    "# find cancer type (defined using first genomic specimen)\n",
    "first_specimens = specimens.sort_values(by=['dfci_mrn','report_dt']).groupby('dfci_mrn').first().reset_index()[['dfci_mrn','primary_cancer_diagnosis','report_dt']]\n",
    "training = pd.merge(training, first_specimens, on='dfci_mrn')\n",
    "validation = pd.merge(validation, first_specimens, on='dfci_mrn')\n",
    "test = pd.merge(test, first_specimens, on='dfci_mrn')"
   ]
  },
  {
   "cell_type": "code",
   "execution_count": null,
   "metadata": {},
   "outputs": [],
   "source": [
    "# find first palliative rx if any\n",
    "\n",
    "training = pd.merge(training, ml_pall_rx, on='dfci_mrn', how='left')\n",
    "training['encounter_date'] = pd.to_datetime(training.encounter_date)\n",
    "training['pall_start_dt'] = pd.to_datetime(training.pall_start_dt)\n",
    "training['report_dt'] = pd.to_datetime(training.report_dt)\n",
    "training['after_palliative'] = np.where(training.pall_start_dt.isnull() | (training.encounter_date < training.pall_start_dt), 0, 1)\n",
    "training['after_profile'] = np.where(training.report_dt.isnull() | (training.encounter_date < training.report_dt), 0, 1)\n",
    "\n",
    "validation = pd.merge(validation, ml_pall_rx, on='dfci_mrn', how='left')\n",
    "validation['encounter_date'] = pd.to_datetime(validation.encounter_date)\n",
    "validation['pall_start_dt'] = pd.to_datetime(validation.pall_start_dt)\n",
    "validation['report_dt'] = pd.to_datetime(validation.report_dt)\n",
    "validation['after_palliative'] = np.where(validation.pall_start_dt.isnull() | (validation.encounter_date < validation.pall_start_dt), 0, 1)\n",
    "validation['after_profile'] = np.where(validation.report_dt.isnull() | (validation.encounter_date < validation.report_dt), 0, 1)\n",
    "\n",
    "test = pd.merge(test, ml_pall_rx, on='dfci_mrn', how='left')\n",
    "test['encounter_date'] = pd.to_datetime(test.encounter_date)\n",
    "test['pall_start_dt'] = pd.to_datetime(test.pall_start_dt)\n",
    "test['report_dt'] = pd.to_datetime(test.report_dt)\n",
    "test['after_palliative'] = np.where(test.pall_start_dt.isnull() | (test.encounter_date < test.pall_start_dt), 0, 1)\n",
    "test['after_profile'] = np.where(test.report_dt.isnull() | (test.encounter_date < test.report_dt), 0, 1)\n",
    "\n"
   ]
  },
  {
   "cell_type": "code",
   "execution_count": null,
   "metadata": {},
   "outputs": [],
   "source": [
    "import random\n",
    "############## which subset to train on\n",
    "training['starttime'] = training.groupby('dfci_mrn').encounter_date.transform('first')\n",
    "training['time'] =  (training['encounter_date'] - training['starttime']).dt.days\n",
    "train_actual = training[training['encounter_date'] <= '2018-12-31'].reset_index(drop=True)\n",
    "\n",
    "\n",
    "\n",
    "validation['starttime'] = validation.groupby('dfci_mrn').encounter_date.transform('first')\n",
    "validation['time'] =  (validation['encounter_date'] - validation['starttime']).dt.days\n",
    "valid_actual = validation[validation['encounter_date'] <= '2018-12-31'].reset_index(drop=True)\n",
    "\n",
    " \n",
    "test['starttime'] = test.groupby('dfci_mrn').encounter_date.transform('first')\n",
    "test['time'] =  (test['encounter_date'] - test['starttime']).dt.days\n",
    "test_actual = test[test['encounter_date'] <= '2018-12-31'].reset_index(drop=True)"
   ]
  },
  {
   "cell_type": "code",
   "execution_count": null,
   "metadata": {},
   "outputs": [],
   "source": [
    "import random\n",
    "train_actual_mrns = train_actual.dfci_mrn.unique()\n",
    "random.shuffle(train_actual_mrns)\n",
    "\n",
    "tiny_train = train_actual[train_actual.dfci_mrn.isin(train_actual_mrns[0:500])].reset_index(drop=True)\n",
    "tiniest_train = train_actual[train_actual.dfci_mrn.isin(train_actual_mrns[0:10])].reset_index(drop=True)"
   ]
  },
  {
   "cell_type": "code",
   "execution_count": null,
   "metadata": {},
   "outputs": [],
   "source": [
    "print('Number of patients in full training set')\n",
    "all_train_pts = training.dfci_mrn.nunique()\n",
    "print(all_train_pts)\n",
    "\n",
    "print('Number of reports in full training set')\n",
    "print(training.index.nunique())"
   ]
  },
  {
   "cell_type": "code",
   "execution_count": 38,
   "metadata": {},
   "outputs": [],
   "source": [
    "train_pts = train_actual.dfci_mrn.unique()"
   ]
  },
  {
   "cell_type": "code",
   "execution_count": null,
   "metadata": {},
   "outputs": [],
   "source": [
    "print('Number of patients in full validation set')\n",
    "all_valid_pts = validation.dfci_mrn.nunique()\n",
    "print(all_valid_pts)\n",
    "\n",
    "print('Number of reports in full validation set')\n",
    "print(validation.index.nunique())"
   ]
  },
  {
   "cell_type": "code",
   "execution_count": null,
   "metadata": {},
   "outputs": [],
   "source": [
    "print('Number of patients in full test set')\n",
    "all_test_pts = test.dfci_mrn.nunique()\n",
    "print(all_test_pts)\n",
    "\n",
    "print('Number of reports in full test set')\n",
    "print(test.index.nunique())"
   ]
  },
  {
   "cell_type": "code",
   "execution_count": null,
   "metadata": {},
   "outputs": [],
   "source": [
    "print('Number of patients in train_actual set')\n",
    "num_train_pts = train_actual.dfci_mrn.nunique()\n",
    "print(num_train_pts)\n",
    "\n",
    "print('Number of reports in train_actual set')\n",
    "print(train_actual.index.nunique())"
   ]
  },
  {
   "cell_type": "code",
   "execution_count": null,
   "metadata": {},
   "outputs": [],
   "source": [
    "print('Number of patients in valid_actual set')\n",
    "num_validation_pts = valid_actual.dfci_mrn.nunique()\n",
    "\n",
    "print(num_validation_pts)\n",
    "\n",
    "print('Number of reports in valid_actual set')\n",
    "print(valid_actual.index.nunique())"
   ]
  },
  {
   "cell_type": "code",
   "execution_count": null,
   "metadata": {},
   "outputs": [],
   "source": [
    "print('Number of patients in test_actual set')\n",
    "num_test_pts = test_actual.dfci_mrn.nunique()\n",
    "\n",
    "print(num_test_pts)\n",
    "\n",
    "print('Number of reports in test_actual set')\n",
    "print(test_actual.index.nunique())"
   ]
  },
  {
   "cell_type": "code",
   "execution_count": 49,
   "metadata": {},
   "outputs": [],
   "source": [
    "from torch.utils import data\n",
    "from tokenizers import BertWordPieceTokenizer\n",
    "\n",
    "\n",
    "class PrognosisDataset(data.Dataset):\n",
    "    def __init__(self, pandas_dataset):\n",
    "        self.data = pandas_dataset\n",
    "        self.max_doc_len = 1000\n",
    "        self.tokenizer = BertWordPieceTokenizer(\"bert-base-uncased-vocab.txt\", lowercase=True)\n",
    "        self.tokenizer.enable_padding(length=self.max_doc_len)\n",
    "        self.mrns = self.data.dfci_mrn.unique()\n",
    "        \n",
    "    def __len__(self):\n",
    "        # how many patients in the dataset\n",
    "        return len(self.mrns)\n",
    "    \n",
    "    def __getitem__(self, index):\n",
    "        # get data for MRN corresponding to index passed\n",
    "        mrn = self.mrns[index]\n",
    "        patient = self.data[self.data.dfci_mrn == mrn].copy().reset_index(drop=True)\n",
    "        \n",
    "        patient['encounter_date'] = pd.to_datetime(patient['encounter_date'])\n",
    "        patient = patient.sort_values(by=['encounter_date'])\n",
    "\n",
    "        start_times = torch.tensor(patient.time / 365, dtype=torch.float32)\n",
    "        end_times = torch.roll(start_times, -1)\n",
    "        end_times[-1] = (patient['encounter_to_end'].values[-1] / 365) + start_times[-1]\n",
    "\n",
    "        events = torch.zeros_like(end_times)\n",
    "        events[-1] = torch.tensor(patient.event.values[-1], dtype=torch.float32)\n",
    "\n",
    "    \n",
    "        y_survival_array = torch.tensor(np.column_stack([patient['encounter_to_end'].values, patient['event'].values]))\n",
    "        y_new_rx = torch.tensor(patient.new_rx_30d.values, dtype=torch.float32)\n",
    "\n",
    "        text = patient.text.str.replace('20\\d\\d',' ')\n",
    "        \n",
    "        encoded_list = self.tokenizer.encode_batch([str(x) for x in text])\n",
    "        for i in range(len(encoded_list)):\n",
    "            encoded_list[i].truncate(self.max_doc_len)\n",
    "        encoded_list = [x.ids for x in encoded_list]\n",
    "        x_text_tensor = torch.tensor(encoded_list, dtype=torch.long)\n",
    "        \n",
    "        \n",
    "\n",
    "        return x_text_tensor, start_times, end_times, events, y_new_rx\n",
    "        \n",
    "        "
   ]
  },
  {
   "cell_type": "code",
   "execution_count": 51,
   "metadata": {},
   "outputs": [
    {
     "name": "stdout",
     "output_type": "stream",
     "text": [
      "torch.Size([1, 7, 1000]) torch.Size([1, 7]) torch.Size([1, 7]) torch.Size([1, 7]) torch.Size([1, 7])\n"
     ]
    }
   ],
   "source": [
    "# test dataset loading and output shape\n",
    "temp = PrognosisDataset(tiniest_train.reset_index(drop=True))\n",
    "\n",
    "temp_loader = data.DataLoader(temp, batch_size=1, shuffle=True)\n",
    "temp_iter = iter(temp_loader)\n",
    "a,b,c,d,e = next(temp_iter)\n",
    "print(a.shape, b.shape, c.shape, d.shape, e.shape)\n"
   ]
  },
  {
   "cell_type": "code",
   "execution_count": 52,
   "metadata": {},
   "outputs": [
    {
     "data": {
      "text/plain": [
       "Tokenizer(vocabulary_size=30522, model=BertWordPiece, unk_token=[UNK], sep_token=[SEP], cls_token=[CLS], pad_token=[PAD], mask_token=[MASK], clean_text=True, handle_chinese_chars=True, strip_accents=None, lowercase=True, wordpieces_prefix=##)"
      ]
     },
     "execution_count": 52,
     "metadata": {},
     "output_type": "execute_result"
    }
   ],
   "source": [
    "tokenizer = BertWordPieceTokenizer('bert-base-uncased-vocab.txt')\n",
    "tokenizer"
   ]
  },
  {
   "cell_type": "code",
   "execution_count": 99,
   "metadata": {},
   "outputs": [],
   "source": [
    "#model \n",
    "\n",
    "\n",
    "from torch.nn import functional as F\n",
    "import torch.nn as nn\n",
    "from torch.utils.data import DataLoader\n",
    "from torch.nn import LSTM, Linear, Embedding, Conv1d, MaxPool1d, GRU, LSTMCell, GRUCell, Dropout\n",
    "\n",
    "doc_lstm_dim=64\n",
    "\n",
    "\n",
    "\n",
    "\n",
    "\n",
    "\n",
    "\n",
    "class NoteCNN(nn.Module):\n",
    "    def __init__(self, output_dims):\n",
    "        super(NoteCNN, self).__init__()\n",
    "        \n",
    "        self.vocab_size = 30522\n",
    "        self.embedding_dims=512\n",
    "        self.word_dim = 256\n",
    "        self.word_hidden_dim = 256\n",
    "        \n",
    "        self.dropout = Dropout(0.1)\n",
    "\n",
    "        self.output_dims = output_dims\n",
    "        \n",
    "        self.main_embedding = Embedding(self.vocab_size, self.embedding_dims)\n",
    "\n",
    "        self.main_word_CNN1 = Conv1d(self.embedding_dims, self.word_dim, kernel_size=5, stride=1, padding = 1)\n",
    "\n",
    "        self.main_postword = Linear(self.word_dim, self.word_hidden_dim)\n",
    "\n",
    "        self.final_common = Linear(self.word_hidden_dim, self.output_dims)\n",
    "        \n",
    "    def forward(self, x):\n",
    "        main = self.main_embedding(x)\n",
    "        # (num_docs, length_document, embedding_dims)\n",
    "        #main = self.dropout(main)\n",
    "        main = main.permute(0,2,1)\n",
    "        main = self.main_word_CNN1(main)\n",
    "        main = torch.max(main, axis=2)[0]\n",
    "        main = self.dropout(main)\n",
    "        ## (num_docs, embedding_dims)\n",
    "\n",
    "\n",
    "        \n",
    "        main = self.main_postword(main)\n",
    "        main = torch.relu(main)\n",
    "        main = self.dropout(main)\n",
    "        \n",
    "        main = self.final_common(main)\n",
    "        \n",
    "        \n",
    "        return main\n",
    " \n",
    "        \n",
    "        \n",
    "    \n",
    "class PrognosisModel(nn.Module):\n",
    "\n",
    "\n",
    "    def __init__(self):\n",
    "        super(PrognosisModel, self).__init__()\n",
    "        \n",
    "        self.final_hidden_dim = 128\n",
    "        \n",
    "        self.doc_lstm_dim = doc_lstm_dim\n",
    "\n",
    "        self.note_cnn = NoteCNN(self.final_hidden_dim)\n",
    "        \n",
    "        \n",
    "\n",
    "        self.doc_GRU = GRU(self.final_hidden_dim + 1, self.doc_lstm_dim, bidirectional=False, batch_first=True)\n",
    "\n",
    "        self.prog_out = Linear(self.doc_lstm_dim, 1)\n",
    "        self.hazard_activation = nn.Softplus()\n",
    "        \n",
    "        self.rx_out = Linear(self.doc_lstm_dim, 1)\n",
    "        \n",
    "        self.dropout = Dropout(0.1)\n",
    "            \n",
    "        \n",
    "        \n",
    "\n",
    "        \n",
    "\n",
    "    def forward(self, text, start_times, end_times):\n",
    "\n",
    "        text = text.squeeze(0)\n",
    "        start_times = start_times.squeeze(0) # now (num_docs,)\n",
    "        end_times = end_times.squeeze(0) \n",
    "        delta_times = torch.cat([torch.tensor([0.]).to('cuda'), start_times[1:] - start_times[:-1]])\n",
    "\n",
    "        main = self.note_cnn(text)\n",
    "        main = self.dropout(main)\n",
    "\n",
    "        main = torch.cat([delta_times.unsqueeze(1), main], dim=1)\n",
    "        \n",
    "        # batch axis back\n",
    "        main = main.unsqueeze(0)\n",
    "        main, _ = self.doc_GRU(main)\n",
    "        main = self.dropout(main)\n",
    "        \n",
    "        # batch axis gone\n",
    "        main = main.squeeze(0)\n",
    "       \n",
    "        hazard = self.prog_out(main) \n",
    "        hazard = self.hazard_activation(hazard)\n",
    "        \n",
    "        rx_out = self.rx_out(main)\n",
    "        \n",
    "        \n",
    "        return hazard, rx_out\n",
    "\n"
   ]
  },
  {
   "cell_type": "code",
   "execution_count": 101,
   "metadata": {},
   "outputs": [
    {
     "data": {
      "text/plain": [
       "PrognosisModel(\n",
       "  (note_cnn): NoteCNN(\n",
       "    (dropout): Dropout(p=0.1, inplace=False)\n",
       "    (main_embedding): Embedding(30522, 512)\n",
       "    (main_word_CNN1): Conv1d(512, 256, kernel_size=(5,), stride=(1,), padding=(1,))\n",
       "    (main_postword): Linear(in_features=256, out_features=256, bias=True)\n",
       "    (final_common): Linear(in_features=256, out_features=128, bias=True)\n",
       "  )\n",
       "  (doc_GRU): GRU(129, 64, batch_first=True)\n",
       "  (prog_out): Linear(in_features=64, out_features=1, bias=True)\n",
       "  (hazard_activation): Softplus(beta=1, threshold=20)\n",
       "  (rx_out): Linear(in_features=64, out_features=1, bias=True)\n",
       "  (dropout): Dropout(p=0.1, inplace=False)\n",
       ")"
      ]
     },
     "execution_count": 101,
     "metadata": {},
     "output_type": "execute_result"
    }
   ],
   "source": [
    "themodel = PrognosisModel()\n",
    "themodel.to('cuda')"
   ]
  },
  {
   "cell_type": "code",
   "execution_count": 102,
   "metadata": {},
   "outputs": [
    {
     "name": "stdout",
     "output_type": "stream",
     "text": [
      "torch.Size([1, 45, 1000])\n",
      "torch.Size([45, 1]) torch.Size([45, 1])\n"
     ]
    }
   ],
   "source": [
    "# check input and output shapes\n",
    "a,b,c,d,e = next(temp)\n",
    "a,b,c,d,e = [x.to('cuda') for x in [a,b,c,d,e]]\n",
    "\n",
    "themodel.to('cuda')\n",
    "\n",
    "\n",
    "\n",
    "output = themodel(a,b,c)\n",
    "print(a.shape)\n",
    "print(output[0].shape, output[1].shape)\n",
    "\n"
   ]
  },
  {
   "cell_type": "code",
   "execution_count": 103,
   "metadata": {},
   "outputs": [],
   "source": [
    "def survival_loss(linear_h, start_times, end_times, events):\n",
    "    hazard = linear_h\n",
    "    \n",
    "    cum_hazard = hazard * (end_times - start_times)\n",
    "\n",
    "\n",
    "    loss = -torch.sum(torch.log(hazard)*events - cum_hazard)\n",
    "\n",
    "    return loss"
   ]
  },
  {
   "cell_type": "code",
   "execution_count": 104,
   "metadata": {},
   "outputs": [],
   "source": [
    "# train loop\n",
    "def train_model(model, num_epochs, trainloader, validloader=None):\n",
    "    \n",
    "    \n",
    "    import torch.optim as optim\n",
    "\n",
    "    optimizer = optim.Adam(model.parameters(), lr=0.0001)\n",
    "\n",
    "    model.to('cuda')\n",
    "\n",
    "    for epoch in range(num_epochs):  # loop over the dataset multiple times\n",
    "        running_train_main_loss = 0.0\n",
    "        mean_train_main_loss = 0.0\n",
    "        running_train_newrx_loss = 0.0\n",
    "        mean_train_newrx_loss = 0.0\n",
    "        \n",
    "        running_val_main_loss = 0.0\n",
    "        mean_val_main_loss = 0.0\n",
    "        running_val_newrx_loss = 0.0\n",
    "        mean_val_newrx_loss = 0.0\n",
    "        \n",
    "        num_train_batches = len(trainloader)\n",
    "                \n",
    "        model.train()\n",
    "        \n",
    "        preds_h_list = []\n",
    "        preds_newrx_list = []\n",
    "        start_times_list = []\n",
    "        end_times_list = []\n",
    "        target_event_list = []\n",
    "        target_newrx_list = []\n",
    "        \n",
    " \n",
    "        num_dead = 0\n",
    "        \n",
    "\n",
    "            \n",
    "        \n",
    "        for i, batch in enumerate(trainloader, 0):\n",
    "            # get the inputs; data is a list of [inputs, labels]\n",
    "            a,b,c, y_true, y_true_newrx  = [x.to('cuda') for x in batch]\n",
    "\n",
    "            \n",
    "            #get rid of batch1 axis from target labels\n",
    "            y_true = y_true.squeeze(0)\n",
    "            y_true_newrx = y_true_newrx.squeeze(0)\n",
    "            \n",
    "\n",
    "            #################### actual train step\n",
    "            # actual prognosis loss\n",
    "            \n",
    "            \n",
    "            optimizer.zero_grad()\n",
    "            pred_h_t, pred_newrx = model(a,b,c)\n",
    "            pred_h_t = pred_h_t.squeeze(1)\n",
    "            pred_newrx = pred_newrx.squeeze(1)\n",
    "            \n",
    "            preds_h_list.append(pred_h_t)\n",
    "            preds_newrx_list.append(pred_newrx)\n",
    "            start_times_list.append(b.squeeze(0))\n",
    "            end_times_list.append(c.squeeze(0))\n",
    "            target_event_list.append(y_true)\n",
    "            target_newrx_list.append(y_true_newrx)\n",
    "            \n",
    "\n",
    "            \n",
    "            if y_true.sum() > 0:\n",
    "                num_dead += 1\n",
    "            \n",
    "            if num_dead > 3:\n",
    "                pred_h_t = torch.cat(preds_h_list)\n",
    "                pred_newrx = torch.cat(preds_newrx_list)\n",
    "                start_times = torch.cat(start_times_list)\n",
    "                end_times = torch.cat(end_times_list)\n",
    "                target_event = torch.cat(target_event_list)\n",
    "                target_newrx = torch.cat(target_newrx_list)\n",
    "\n",
    "                \n",
    "            \n",
    "                prognosis_loss = survival_loss(pred_h_t, start_times, end_times, target_event)\n",
    "                newrx_loss = F.binary_cross_entropy_with_logits(pred_newrx, target_newrx)\n",
    "                total_loss = prognosis_loss + (newrx_loss * 10)\n",
    "                total_loss.backward()\n",
    "                optimizer.step()\n",
    "\n",
    "                running_train_main_loss += prognosis_loss.data.cpu().numpy()\n",
    "                mean_train_main_loss = running_train_main_loss / (i+1)\n",
    "                \n",
    "                running_train_newrx_loss += newrx_loss.data.cpu().numpy()\n",
    "                mean_train_newrx_loss = running_train_newrx_loss / (i+1)\n",
    "\n",
    "                \n",
    "                \n",
    "                preds_h_list = []\n",
    "                preds_newrx_list = []\n",
    "                start_times_list = []\n",
    "                end_times_list = []\n",
    "                target_event_list = []\n",
    "                target_newrx_list = []\n",
    "\n",
    "                num_dead = 0\n",
    "                \n",
    "            # print statistics\n",
    "            print('Epoch: ' + str(epoch+1) + ', batch: ' + str(i + 1) + '/' + str(num_train_batches) + ', main train loss: ' + str(mean_train_main_loss) + ', newrx train loss: ' + str(mean_train_newrx_loss), end='\\r', flush=True)\n",
    "\n",
    "\n",
    "             \n",
    "        print('')\n",
    "            \n",
    "        if validloader is not None:\n",
    "            # validate\n",
    "            valid_batches = len(validloader)\n",
    "\n",
    "            model.eval()\n",
    "\n",
    "\n",
    "\n",
    "\n",
    "            preds_h_list = []\n",
    "            preds_newrx_list = []\n",
    "            start_times_list = []\n",
    "            end_times_list = []\n",
    "            target_event_list = []\n",
    "            target_newrx_list = []\n",
    "\n",
    "\n",
    "            num_dead = 0\n",
    "\n",
    "\n",
    "\n",
    "\n",
    "            for j, batch in enumerate(validloader, 0):\n",
    "                # get the inputs; data is a list of [inputs, labels]\n",
    "                a,b,c, y_true, y_true_newrx  = [x.to('cuda') for x in batch]\n",
    "\n",
    "\n",
    "                #get rid of batch1 axis from target labels\n",
    "                y_true = y_true.squeeze(0)\n",
    "                y_true_newrx = y_true_newrx.squeeze(0)\n",
    "\n",
    "                #################### actual train step\n",
    "                # actual prognosis loss\n",
    "\n",
    "                with torch.no_grad():\n",
    "                    pred_h_t, pred_newrx = model(a,b,c)\n",
    "                    pred_h_t = pred_h_t.squeeze(1)\n",
    "                    pred_newrx = pred_newrx.squeeze(1)\n",
    "\n",
    "                preds_h_list.append(pred_h_t)\n",
    "                preds_newrx_list.append(pred_newrx)\n",
    "                start_times_list.append(b.squeeze(0))\n",
    "                end_times_list.append(c.squeeze(0))\n",
    "                target_event_list.append(y_true)\n",
    "                target_newrx_list.append(y_true_newrx)\n",
    "\n",
    "\n",
    "\n",
    "                if y_true.sum() > 0:\n",
    "                    num_dead += 1\n",
    "\n",
    "                if num_dead > 3:\n",
    "                    pred_h_t = torch.cat(preds_h_list)\n",
    "                    pred_newrx = torch.cat(preds_newrx_list)\n",
    "                    start_times = torch.cat(start_times_list)\n",
    "                    end_times = torch.cat(end_times_list)\n",
    "                    target_event = torch.cat(target_event_list)\n",
    "                    target_newrx = torch.cat(target_newrx_list)\n",
    "\n",
    "\n",
    "\n",
    "                    prognosis_loss = survival_loss(pred_h_t, start_times, end_times, target_event)\n",
    "                \n",
    "                \n",
    "                    newrx_loss = F.binary_cross_entropy_with_logits(pred_newrx, target_newrx)\n",
    "                    total_loss = prognosis_loss + (newrx_loss * 10)\n",
    "\n",
    "\n",
    "                    running_val_main_loss += prognosis_loss.data.cpu().numpy()\n",
    "\n",
    "                    running_val_newrx_loss += newrx_loss.data.cpu().numpy()\n",
    "\n",
    "        \n",
    "\n",
    "                    preds_h_list = []\n",
    "                    preds_newrx_list = []\n",
    "                    start_times_list = []\n",
    "                    end_times_list = []\n",
    "                    target_event_list = []\n",
    "                    target_newrx_list = []\n",
    "\n",
    "                    num_dead = 0\n",
    "\n",
    "                mean_val_main_loss = running_val_main_loss / (j+1)\n",
    "                mean_val_newrx_loss = running_val_newrx_loss / (j+1)\n",
    "               \n",
    "            print('Epoch: ' + str(epoch+1) + ', main val loss: ' + str(mean_val_main_loss) + ', newrx val loss: ' + str(mean_val_newrx_loss), end='\\r', flush=True)\n",
    "        print('')\n",
    "    \n",
    "\n"
   ]
  },
  {
   "cell_type": "code",
   "execution_count": null,
   "metadata": {},
   "outputs": [],
   "source": [
    "# # with lstm on end of cnn\n",
    "themodel = PrognosisModel()\n",
    "trainloader = data.DataLoader(PrognosisDataset(train_actual), batch_size=1, num_workers=0, shuffle=True)\n",
    "validloader = data.DataLoader(PrognosisDataset(valid_actual), batch_size=1, num_workers=0, shuffle=True)\n",
    "train_model(themodel,3, trainloader, validloader)\n",
    "torch.save(themodel.state_dict(), model_folder+'rnn_direct_hazard_dropout_rehazard.pt')"
   ]
  },
  {
   "cell_type": "code",
   "execution_count": 105,
   "metadata": {},
   "outputs": [
    {
     "data": {
      "text/plain": [
       "<All keys matched successfully>"
      ]
     },
     "execution_count": 105,
     "metadata": {},
     "output_type": "execute_result"
    }
   ],
   "source": [
    "themodel = PrognosisModel().to('cuda')\n",
    "themodel.load_state_dict(torch.load(model_folder+'rnn_direct_hazard_dropout_rehazard.pt'))"
   ]
  },
  {
   "cell_type": "code",
   "execution_count": 108,
   "metadata": {},
   "outputs": [],
   "source": [
    "# run inference on valid_actual\n",
    "themodel = PrognosisModel()\n",
    "themodel.load_state_dict(torch.load(model_folder+'rnn_direct_hazard_dropout_rehazard.pt'))\n",
    "themodel.to('cuda')\n",
    "\n",
    "no_shuffle_valid_dataset = data.DataLoader(PrognosisDataset(valid_actual), batch_size=1, shuffle=False, num_workers=0)\n",
    "\n",
    "sample_number = 10\n",
    "\n",
    "dflist = []\n",
    "for a,b,c, _, _ in no_shuffle_valid_dataset:\n",
    "    thisframe = pd.DataFrame()\n",
    "    \n",
    "    sample_list = []\n",
    "    newrx_list = []\n",
    "    for i in range(sample_number):\n",
    "        with torch.no_grad():\n",
    "            y_pred, newrx_pred = themodel(a.to('cuda'), b.to('cuda'), c.to('cuda'))\n",
    "        logits = torch.log(y_pred.squeeze(1))\n",
    "        newrx = newrx_pred.squeeze(1)\n",
    "        sample_list.append(logits)\n",
    "        newrx_list.append(newrx)\n",
    "        \n",
    "    samples = torch.stack(sample_list, dim=1)\n",
    "    newrxs = torch.stack(newrx_list, dim=1)\n",
    "    \n",
    "    \n",
    "    thisframe['logit_mean'] = torch.mean(samples, dim=1).cpu().detach().numpy()\n",
    "    thisframe['logit_sd'] = torch.std(samples, dim=1).cpu().detach().numpy()\n",
    "    thisframe['newrx_mean'] = torch.mean(newrxs, dim=1).cpu().detach().numpy()\n",
    "    thisframe['newrx_sd'] = torch.std(newrxs, dim=1).cpu().detach().numpy()\n",
    "    thisframe['calc_diff_logit'] = thisframe.logit_mean.diff()\n",
    "    thisframe['ewm_logit'] = thisframe[['logit_mean']].apply(lambda x: x.ewm(span=7).mean()).values.flatten()\n",
    "    thisframe['diff_logit_ewm'] = thisframe['logit_mean'] - thisframe['ewm_logit'].shift(periods=1)\n",
    "\n",
    "\n",
    "\n",
    "\n",
    "    \n",
    "\n",
    "\n",
    "    \n",
    "    dflist.append(thisframe)\n",
    "    \n",
    "resultframe = pd.concat(dflist, axis=0)\n",
    "resultframe = resultframe.reset_index(drop=True)\n",
    "    \n",
    "\n",
    "output = valid_actual.reset_index(drop=True)\n",
    "\n",
    "\n",
    "\n",
    "valid_output = pd.concat([output, resultframe], axis=1)\n",
    "valid_output = valid_output.sort_values(by=['dfci_mrn', 'encounter_date']).reset_index(drop=True)\n",
    "#valid_output = valid_output.loc[valid_output.groupby(['dfci_mrn', 'encounter_date'])['logit'].idxmax()].reset_index(drop=True)\n",
    "#valid_output = valid_output.sort_values(by=['dfci_mrn', 'encounter_date']).reset_index(drop=True)\n",
    "\n",
    "\n"
   ]
  },
  {
   "cell_type": "code",
   "execution_count": 109,
   "metadata": {},
   "outputs": [
    {
     "data": {
      "text/plain": [
       "'/data/clin_notes_outcomes/matchminer/derived_datasets/inflection/'"
      ]
     },
     "execution_count": 109,
     "metadata": {},
     "output_type": "execute_result"
    }
   ],
   "source": [
    "derived_data_folder"
   ]
  },
  {
   "cell_type": "code",
   "execution_count": null,
   "metadata": {},
   "outputs": [],
   "source": []
  },
  {
   "cell_type": "code",
   "execution_count": 110,
   "metadata": {},
   "outputs": [
    {
     "name": "stderr",
     "output_type": "stream",
     "text": [
      "/homes10/klkehl/anaconda3/envs/transformer/lib/python3.7/site-packages/seaborn/distributions.py:2557: FutureWarning: `distplot` is a deprecated function and will be removed in a future version. Please adapt your code to use either `displot` (a figure-level function with similar flexibility) or `histplot` (an axes-level function for histograms).\n",
      "  warnings.warn(msg, FutureWarning)\n",
      "/homes10/klkehl/anaconda3/envs/transformer/lib/python3.7/site-packages/seaborn/distributions.py:2557: FutureWarning: `distplot` is a deprecated function and will be removed in a future version. Please adapt your code to use either `displot` (a figure-level function with similar flexibility) or `histplot` (an axes-level function for histograms).\n",
      "  warnings.warn(msg, FutureWarning)\n"
     ]
    },
    {
     "data": {
      "text/plain": [
       "<AxesSubplot:xlabel='logit_mean', ylabel='Density'>"
      ]
     },
     "execution_count": 110,
     "metadata": {},
     "output_type": "execute_result"
    },
    {
     "data": {
      "image/png": "[encoded data removed]",
      "text/plain": [
       "<Figure size 432x288 with 1 Axes>"
      ]
     },
     "metadata": {
      "needs_background": "light"
     },
     "output_type": "display_data"
    }
   ],
   "source": [
    "import seaborn as sns\n",
    "temp = valid_output\n",
    "\n",
    "sns.distplot(temp.query('died_180d==1').logit_mean)\n",
    "sns.distplot(temp.query('died_180d==0').logit_mean)\n"
   ]
  },
  {
   "cell_type": "code",
   "execution_count": 111,
   "metadata": {},
   "outputs": [
    {
     "name": "stderr",
     "output_type": "stream",
     "text": [
      "/homes10/klkehl/anaconda3/envs/transformer/lib/python3.7/site-packages/seaborn/distributions.py:2557: FutureWarning: `distplot` is a deprecated function and will be removed in a future version. Please adapt your code to use either `displot` (a figure-level function with similar flexibility) or `histplot` (an axes-level function for histograms).\n",
      "  warnings.warn(msg, FutureWarning)\n",
      "/homes10/klkehl/anaconda3/envs/transformer/lib/python3.7/site-packages/seaborn/distributions.py:2557: FutureWarning: `distplot` is a deprecated function and will be removed in a future version. Please adapt your code to use either `displot` (a figure-level function with similar flexibility) or `histplot` (an axes-level function for histograms).\n",
      "  warnings.warn(msg, FutureWarning)\n"
     ]
    },
    {
     "data": {
      "text/plain": [
       "<AxesSubplot:xlabel='newrx_mean', ylabel='Density'>"
      ]
     },
     "execution_count": 111,
     "metadata": {},
     "output_type": "execute_result"
    },
    {
     "data": {
      "image/png": "[encoded data removed]",
      "text/plain": [
       "<Figure size 432x288 with 1 Axes>"
      ]
     },
     "metadata": {
      "needs_background": "light"
     },
     "output_type": "display_data"
    }
   ],
   "source": [
    "sns.distplot(temp.query('new_rx_30d==1').newrx_mean)\n",
    "sns.distplot(temp.query('new_rx_30d==0').newrx_mean)"
   ]
  },
  {
   "cell_type": "code",
   "execution_count": 112,
   "metadata": {},
   "outputs": [
    {
     "name": "stderr",
     "output_type": "stream",
     "text": [
      "/homes10/klkehl/anaconda3/envs/transformer/lib/python3.7/site-packages/seaborn/distributions.py:2557: FutureWarning: `distplot` is a deprecated function and will be removed in a future version. Please adapt your code to use either `displot` (a figure-level function with similar flexibility) or `histplot` (an axes-level function for histograms).\n",
      "  warnings.warn(msg, FutureWarning)\n",
      "/homes10/klkehl/anaconda3/envs/transformer/lib/python3.7/site-packages/seaborn/distributions.py:2557: FutureWarning: `distplot` is a deprecated function and will be removed in a future version. Please adapt your code to use either `displot` (a figure-level function with similar flexibility) or `histplot` (an axes-level function for histograms).\n",
      "  warnings.warn(msg, FutureWarning)\n"
     ]
    },
    {
     "data": {
      "text/plain": [
       "<AxesSubplot:xlabel='logit_mean', ylabel='Density'>"
      ]
     },
     "execution_count": 112,
     "metadata": {},
     "output_type": "execute_result"
    },
    {
     "data": {
      "image/png": "[encoded data removed]",
      "text/plain": [
       "<Figure size 432x288 with 1 Axes>"
      ]
     },
     "metadata": {
      "needs_background": "light"
     },
     "output_type": "display_data"
    }
   ],
   "source": [
    "sns.distplot(temp.query('new_rx_30d==1').logit_mean)\n",
    "sns.distplot(temp.query('new_rx_30d==0').logit_mean)"
   ]
  },
  {
   "cell_type": "code",
   "execution_count": 113,
   "metadata": {},
   "outputs": [
    {
     "name": "stderr",
     "output_type": "stream",
     "text": [
      "/homes10/klkehl/anaconda3/envs/transformer/lib/python3.7/site-packages/seaborn/distributions.py:2557: FutureWarning: `distplot` is a deprecated function and will be removed in a future version. Please adapt your code to use either `displot` (a figure-level function with similar flexibility) or `histplot` (an axes-level function for histograms).\n",
      "  warnings.warn(msg, FutureWarning)\n",
      "/homes10/klkehl/anaconda3/envs/transformer/lib/python3.7/site-packages/seaborn/distributions.py:2557: FutureWarning: `distplot` is a deprecated function and will be removed in a future version. Please adapt your code to use either `displot` (a figure-level function with similar flexibility) or `histplot` (an axes-level function for histograms).\n",
      "  warnings.warn(msg, FutureWarning)\n"
     ]
    },
    {
     "data": {
      "text/plain": [
       "<AxesSubplot:xlabel='newrx_mean', ylabel='Density'>"
      ]
     },
     "execution_count": 113,
     "metadata": {},
     "output_type": "execute_result"
    },
    {
     "data": {
      "image/png": "[encoded data removed]",
      "text/plain": [
       "<Figure size 432x288 with 1 Axes>"
      ]
     },
     "metadata": {
      "needs_background": "light"
     },
     "output_type": "display_data"
    }
   ],
   "source": [
    "sns.distplot(temp.query('died_180d==1').newrx_mean)\n",
    "sns.distplot(temp.query('died_180d==0').newrx_mean)"
   ]
  },
  {
   "cell_type": "code",
   "execution_count": 115,
   "metadata": {},
   "outputs": [
    {
     "data": {
      "text/plain": [
       "0.2017671799886632"
      ]
     },
     "execution_count": 115,
     "metadata": {},
     "output_type": "execute_result"
    }
   ],
   "source": [
    "from lifelines.utils import concordance_index\n",
    "concordance_index(valid_output.encounter_to_end, valid_output.logit_mean, valid_output.event)"
   ]
  },
  {
   "cell_type": "code",
   "execution_count": 116,
   "metadata": {},
   "outputs": [
    {
     "data": {
      "text/plain": [
       "0.23416046218565043"
      ]
     },
     "execution_count": 116,
     "metadata": {},
     "output_type": "execute_result"
    }
   ],
   "source": [
    "concordance_index(valid_output.encounter_to_end, valid_output.newrx_mean, valid_output.event)"
   ]
  },
  {
   "cell_type": "code",
   "execution_count": 117,
   "metadata": {},
   "outputs": [
    {
     "data": {
      "text/plain": [
       "0.4356390593248273"
      ]
     },
     "execution_count": 117,
     "metadata": {},
     "output_type": "execute_result"
    }
   ],
   "source": [
    "from lifelines.utils import concordance_index\n",
    "temp = valid_output[~valid_output['calc_diff_logit'].isnull()]\n",
    "concordance_index(temp.encounter_to_end, temp.calc_diff_logit, temp.event)"
   ]
  },
  {
   "cell_type": "code",
   "execution_count": 118,
   "metadata": {},
   "outputs": [
    {
     "data": {
      "text/plain": [
       "0.3613929627903323"
      ]
     },
     "execution_count": 118,
     "metadata": {},
     "output_type": "execute_result"
    }
   ],
   "source": [
    "from lifelines.utils import concordance_index\n",
    "temp = valid_output[~valid_output['diff_logit_ewm'].isnull()]\n",
    "concordance_index(temp.encounter_to_end, temp.diff_logit_ewm, temp.event)"
   ]
  },
  {
   "cell_type": "code",
   "execution_count": 119,
   "metadata": {},
   "outputs": [
    {
     "name": "stderr",
     "output_type": "stream",
     "text": [
      "/homes10/klkehl/anaconda3/envs/transformer/lib/python3.7/site-packages/seaborn/_decorators.py:43: FutureWarning: Pass the following variables as keyword args: x, y. From version 0.12, the only valid positional argument will be `data`, and passing other arguments without an explicit keyword will result in an error or misinterpretation.\n",
      "  FutureWarning\n"
     ]
    },
    {
     "data": {
      "text/plain": [
       "<AxesSubplot:xlabel='logit_mean', ylabel='logit_sd'>"
      ]
     },
     "execution_count": 119,
     "metadata": {},
     "output_type": "execute_result"
    },
    {
     "data": {
      "image/png": "[encoded data removed]",
      "text/plain": [
       "<Figure size 432x288 with 1 Axes>"
      ]
     },
     "metadata": {
      "needs_background": "light"
     },
     "output_type": "display_data"
    }
   ],
   "source": [
    "sns.scatterplot(valid_output.logit_mean, valid_output.logit_sd)"
   ]
  },
  {
   "cell_type": "code",
   "execution_count": 120,
   "metadata": {},
   "outputs": [
    {
     "name": "stderr",
     "output_type": "stream",
     "text": [
      "/homes10/klkehl/anaconda3/envs/transformer/lib/python3.7/site-packages/seaborn/_decorators.py:43: FutureWarning: Pass the following variables as keyword args: x, y. From version 0.12, the only valid positional argument will be `data`, and passing other arguments without an explicit keyword will result in an error or misinterpretation.\n",
      "  FutureWarning\n"
     ]
    },
    {
     "data": {
      "text/plain": [
       "<AxesSubplot:xlabel='newrx_mean', ylabel='newrx_sd'>"
      ]
     },
     "execution_count": 120,
     "metadata": {},
     "output_type": "execute_result"
    },
    {
     "data": {
      "image/png": "[encoded data removed]",
      "text/plain": [
       "<Figure size 432x288 with 1 Axes>"
      ]
     },
     "metadata": {
      "needs_background": "light"
     },
     "output_type": "display_data"
    }
   ],
   "source": [
    "sns.scatterplot(valid_output.newrx_mean, valid_output.newrx_sd)"
   ]
  },
  {
   "cell_type": "code",
   "execution_count": null,
   "metadata": {},
   "outputs": [],
   "source": []
  },
  {
   "cell_type": "code",
   "execution_count": 121,
   "metadata": {},
   "outputs": [
    {
     "name": "stdout",
     "output_type": "stream",
     "text": [
      "True     341\n",
      "False    159\n",
      "Name: coefs, dtype: int64\n",
      "        coefs       names\n",
      "268  5.633965  metastatic\n",
      "77   4.650026     ascites\n",
      "266  4.251324  metastases\n",
      "341  3.582719     pleural\n",
      "211  3.145511   increased\n",
      "396  2.936600   signed by\n",
      "455  2.856984  this study\n",
      "283  2.574866         new\n",
      "267  2.267658  metastasis\n",
      "187  2.197235        head         coefs         names\n",
      "346 -1.624221  postsurgical\n",
      "467 -1.737014          type\n",
      "100 -1.978789        breast\n",
      "296 -2.023202        nodule\n",
      "129 -2.029422          cyst\n",
      "371 -2.181505     resection\n",
      "290 -2.659115    no pleural\n",
      "289 -3.756370        no new\n",
      "284 -4.051114            no\n",
      "107 -4.256459            cc\n"
     ]
    }
   ],
   "source": [
    "# find words correlated with otucome in valdiation set using LASSO model\n",
    "\n",
    "from sklearn.feature_extraction.text import TfidfVectorizer\n",
    "vectorizer = TfidfVectorizer(max_features=500, ngram_range=(1,3), min_df=2, max_df=0.95)\n",
    "temp = valid_output\n",
    "text_matrix = vectorizer.fit_transform(temp.text).todense()\n",
    "\n",
    "#train_text_matrix = vectorizer.transform(train_output.text).todense()\n",
    "#valid_text_matrix = vectorizer.transform(valid_output.text).todense()\n",
    "\n",
    "from sklearn.linear_model import SGDRegressor\n",
    "from sklearn.metrics import roc_auc_score, average_precision_score\n",
    "\n",
    "lin_model = SGDRegressor(penalty='l1', \n",
    "                            alpha=0.001, random_state=42,\n",
    "                            max_iter=500, tol=None)\n",
    "lin_model.fit(text_matrix, temp.logit_mean)\n",
    "features = pd.DataFrame()\n",
    "features['coefs'] = lin_model.coef_.flatten()\n",
    "features['names'] = vectorizer.get_feature_names()\n",
    "features = features.sort_values(by='coefs', ascending=False)\n",
    "high_prob_features = features.names[0:10]\n",
    "low_prob_features = features.names[-10:]\n",
    "print((features['coefs']==0).value_counts())\n",
    "print(features.head(10), features.tail(10))\n"
   ]
  },
  {
   "cell_type": "code",
   "execution_count": 122,
   "metadata": {},
   "outputs": [
    {
     "name": "stdout",
     "output_type": "stream",
     "text": [
      "True     423\n",
      "False     77\n",
      "Name: coefs, dtype: int64\n",
      "        coefs        names\n",
      "268  4.072479   metastatic\n",
      "266  3.047364   metastases\n",
      "211  1.796579    increased\n",
      "267  1.777115   metastasis\n",
      "209  1.548435     increase\n",
      "77   1.530539      ascites\n",
      "210  1.349739  increase in\n",
      "283  1.309670          new\n",
      "126  1.077885           ct\n",
      "279  1.069540     multiple         coefs         names\n",
      "129 -0.724402          cyst\n",
      "346 -0.749806  postsurgical\n",
      "100 -0.767874        breast\n",
      "394 -0.862219    signatures\n",
      "154 -1.111729          exam\n",
      "371 -1.332161     resection\n",
      "289 -1.455164        no new\n",
      "412 -1.560105        status\n",
      "284 -1.614762            no\n",
      "107 -1.616895            cc\n"
     ]
    }
   ],
   "source": [
    "from sklearn.feature_extraction.text import TfidfVectorizer\n",
    "vectorizer = TfidfVectorizer(max_features=500, ngram_range=(1,3), min_df=2, max_df=0.95)\n",
    "temp = valid_output\n",
    "text_matrix = vectorizer.fit_transform(temp.text).todense()\n",
    "\n",
    "#train_text_matrix = vectorizer.transform(train_output.text).todense()\n",
    "#valid_text_matrix = vectorizer.transform(valid_output.text).todense()\n",
    "\n",
    "from sklearn.linear_model import SGDRegressor\n",
    "from sklearn.metrics import roc_auc_score, average_precision_score\n",
    "\n",
    "lin_model = SGDRegressor(penalty='l1', \n",
    "                            alpha=0.001, random_state=42,\n",
    "                            max_iter=500, tol=None)\n",
    "lin_model.fit(text_matrix, temp.newrx_mean)\n",
    "features = pd.DataFrame()\n",
    "features['coefs'] = lin_model.coef_.flatten()\n",
    "features['names'] = vectorizer.get_feature_names()\n",
    "features = features.sort_values(by='coefs', ascending=False)\n",
    "high_prob_features = features.names[0:10]\n",
    "low_prob_features = features.names[-10:]\n",
    "print((features['coefs']==0).value_counts())\n",
    "print(features.head(10), features.tail(10))\n",
    "# #lin_model.score(valid_text_matrix, valid_logit)\n"
   ]
  },
  {
   "cell_type": "code",
   "execution_count": null,
   "metadata": {},
   "outputs": [],
   "source": []
  },
  {
   "cell_type": "code",
   "execution_count": 123,
   "metadata": {},
   "outputs": [],
   "source": [
    "# generate predictions for the validation set (includes events after censoring date)\n",
    "themodel = PrognosisModel()\n",
    "themodel.load_state_dict(torch.load(model_folder+'rnn_direct_hazard_dropout_rehazard.pt'))\n",
    "themodel.to('cuda')\n",
    "\n",
    "no_shuffle_valid_dataset = data.DataLoader(PrognosisDataset(validation), batch_size=1, shuffle=False, num_workers=0)\n",
    "\n",
    "sample_number = 10\n",
    "\n",
    "dflist = []\n",
    "for a,b,c, _, _ in no_shuffle_valid_dataset:\n",
    "    thisframe = pd.DataFrame()\n",
    "    \n",
    "    sample_list = []\n",
    "    newrx_list = []\n",
    "    for i in range(sample_number):\n",
    "        with torch.no_grad():\n",
    "            y_pred, newrx_pred = themodel(a.to('cuda'), b.to('cuda'), c.to('cuda'))\n",
    "        logits = torch.log(y_pred.squeeze(1))\n",
    "        newrx = newrx_pred.squeeze(1)\n",
    "        sample_list.append(logits)\n",
    "        newrx_list.append(newrx)\n",
    "        \n",
    "    samples = torch.stack(sample_list, dim=1)\n",
    "    newrxs = torch.stack(newrx_list, dim=1)\n",
    "    \n",
    "    \n",
    "    thisframe['logit_mean'] = torch.mean(samples, dim=1).cpu().detach().numpy()\n",
    "    thisframe['logit_sd'] = torch.std(samples, dim=1).cpu().detach().numpy()\n",
    "    thisframe['newrx_mean'] = torch.mean(newrxs, dim=1).cpu().detach().numpy()\n",
    "    thisframe['newrx_sd'] = torch.std(newrxs, dim=1).cpu().detach().numpy()\n",
    "    thisframe['calc_diff_logit'] = thisframe.logit_mean.diff()\n",
    "    thisframe['ewm_logit'] = thisframe[['logit_mean']].apply(lambda x: x.ewm(span=7).mean()).values.flatten()\n",
    "    thisframe['diff_logit_ewm'] = thisframe['logit_mean'] - thisframe['ewm_logit'].shift(periods=1)\n",
    "\n",
    "\n",
    "\n",
    "\n",
    "    \n",
    "\n",
    "\n",
    "    \n",
    "    dflist.append(thisframe)\n",
    "    \n",
    "resultframe = pd.concat(dflist, axis=0)\n",
    "resultframe = resultframe.reset_index(drop=True)\n",
    "    \n",
    "\n",
    "output = validation.reset_index(drop=True)\n",
    "\n",
    "\n",
    "\n",
    "valid_output = pd.concat([output, resultframe], axis=1)\n",
    "valid_output = valid_output.sort_values(by=['dfci_mrn', 'encounter_date']).reset_index(drop=True)\n",
    "\n",
    "\n",
    "valid_output.to_feather(derived_data_folder+'valid_predicted_prognoses_rnn_rehazard.feather')\n"
   ]
  },
  {
   "cell_type": "code",
   "execution_count": 124,
   "metadata": {},
   "outputs": [],
   "source": [
    "# inference on test set (includes events after censoring date)\n",
    "themodel = PrognosisModel()\n",
    "themodel.load_state_dict(torch.load(model_folder+'rnn_direct_hazard_dropout_rehazard.pt'))\n",
    "themodel.to('cuda')\n",
    "\n",
    "no_shuffle_test_dataset = data.DataLoader(PrognosisDataset(test), batch_size=1, shuffle=False, num_workers=0)\n",
    "\n",
    "sample_number = 10\n",
    "\n",
    "dflist = []\n",
    "for a,b,c, _, _ in no_shuffle_test_dataset:\n",
    "    thisframe = pd.DataFrame()\n",
    "    \n",
    "    sample_list = []\n",
    "    newrx_list = []\n",
    "    for i in range(sample_number):\n",
    "        with torch.no_grad():\n",
    "            y_pred, newrx_pred = themodel(a.to('cuda'), b.to('cuda'), c.to('cuda'))\n",
    "        logits = torch.log(y_pred.squeeze(1))\n",
    "        newrx = newrx_pred.squeeze(1)\n",
    "        sample_list.append(logits)\n",
    "        newrx_list.append(newrx)\n",
    "        \n",
    "    samples = torch.stack(sample_list, dim=1)\n",
    "    newrxs = torch.stack(newrx_list, dim=1)\n",
    "    \n",
    "    \n",
    "    thisframe['logit_mean'] = torch.mean(samples, dim=1).cpu().detach().numpy()\n",
    "    thisframe['logit_sd'] = torch.std(samples, dim=1).cpu().detach().numpy()\n",
    "    thisframe['newrx_mean'] = torch.mean(newrxs, dim=1).cpu().detach().numpy()\n",
    "    thisframe['newrx_sd'] = torch.std(newrxs, dim=1).cpu().detach().numpy()\n",
    "    thisframe['calc_diff_logit'] = thisframe.logit_mean.diff()\n",
    "    thisframe['ewm_logit'] = thisframe[['logit_mean']].apply(lambda x: x.ewm(span=7).mean()).values.flatten()\n",
    "    thisframe['diff_logit_ewm'] = thisframe['logit_mean'] - thisframe['ewm_logit'].shift(periods=1)\n",
    "\n",
    "\n",
    "\n",
    "\n",
    "    \n",
    "\n",
    "\n",
    "    \n",
    "    dflist.append(thisframe)\n",
    "    \n",
    "resultframe = pd.concat(dflist, axis=0)\n",
    "resultframe = resultframe.reset_index(drop=True)\n",
    "    \n",
    "\n",
    "output = test.reset_index(drop=True)\n",
    "\n",
    "\n",
    "\n",
    "test_output = pd.concat([output, resultframe], axis=1)\n",
    "test_output = test_output.sort_values(by=['dfci_mrn', 'encounter_date']).reset_index(drop=True)\n",
    "\n",
    "\n",
    "test_output.to_feather(derived_data_folder+'test_predicted_prognoses_rnn_rehazard.feather')\n"
   ]
  },
  {
   "cell_type": "code",
   "execution_count": null,
   "metadata": {},
   "outputs": [],
   "source": []
  },
  {
   "cell_type": "code",
   "execution_count": 125,
   "metadata": {},
   "outputs": [],
   "source": [
    "# now train crossval models\n",
    "training_patients = training.dfci_mrn.unique()\n",
    "train_actual_patients = train_actual.dfci_mrn.unique()\n",
    "np.random.seed(43)\n",
    "np.random.shuffle(training_patients)\n",
    "splits = np.array_split(training_patients, 10)\n"
   ]
  },
  {
   "cell_type": "code",
   "execution_count": null,
   "metadata": {},
   "outputs": [],
   "source": []
  },
  {
   "cell_type": "code",
   "execution_count": 126,
   "metadata": {
    "scrolled": true
   },
   "outputs": [
    {
     "name": "stdout",
     "output_type": "stream",
     "text": [
      "Split: 0\n",
      "Epoch: 1, batch: 15103/15103, main train loss: 0.9129692239516618, newrx train loss: 0.024572110752889657\n",
      "Epoch: 1, main val loss: 0.6760185543535534, newrx val loss: 0.02484920826982913\n",
      "Epoch: 2, batch: 15103/15103, main train loss: 0.6384108743777582, newrx train loss: 0.022424273649815953\n",
      "Epoch: 2, main val loss: 0.600444561934001, newrx val loss: 0.022781058099477437\n",
      "Epoch: 3, batch: 15103/15103, main train loss: 0.5579497314910111, newrx train loss: 0.021578119085992956\n",
      "Epoch: 3, main val loss: 0.5826760336950227, newrx val loss: 0.022334593105855154\n",
      "Split: 1\n",
      "Epoch: 1, batch: 15102/15102, main train loss: 0.8934069913518321, newrx train loss: 0.025297607653036477\n",
      "Epoch: 1, main val loss: 0.6998307612608579, newrx val loss: 0.023040031009909624\n",
      "Epoch: 2, batch: 15102/15102, main train loss: 0.6340611101120636, newrx train loss: 0.022085723241773612\n",
      "Epoch: 2, main val loss: 0.5986478215745574, newrx val loss: 0.02314545238724748\n",
      "Epoch: 3, batch: 15102/15102, main train loss: 0.5596247057546514, newrx train loss: 0.021631878819386973\n",
      "Epoch: 3, main val loss: 0.621871924102163, newrx val loss: 0.022119723778252075\n",
      "Split: 2\n",
      "Epoch: 1, batch: 15103/15103, main train loss: 0.8793491675346059, newrx train loss: 0.023705512432328947\n",
      "Epoch: 1, main val loss: 0.6693173626571277, newrx val loss: 0.023999926973243584\n",
      "Epoch: 2, batch: 15103/15103, main train loss: 0.6358122298291847, newrx train loss: 0.021897905280736325\n",
      "Epoch: 2, main val loss: 0.6128800010497665, newrx val loss: 0.022461829813642534\n",
      "Epoch: 3, batch: 15103/15103, main train loss: 0.5571771364782696, newrx train loss: 0.021198684945697616\n",
      "Epoch: 3, main val loss: 0.6138730198789984, newrx val loss: 0.02301825135552063\n",
      "Split: 3\n",
      "Epoch: 1, batch: 15104/15104, main train loss: 0.8831991961186016, newrx train loss: 0.024412258789550313\n",
      "Epoch: 1, main val loss: 0.6628266256436985, newrx val loss: 0.02384822728930327\n",
      "Epoch: 2, batch: 15104/15104, main train loss: 0.6347617542407676, newrx train loss: 0.021679180154056798\n",
      "Epoch: 2, main val loss: 0.5973243166501273, newrx val loss: 0.022470993760788652\n",
      "Epoch: 3, batch: 15104/15104, main train loss: 0.565851219785924, newrx train loss: 0.0211434656719596967\n",
      "Epoch: 3, main val loss: 0.6186716130658261, newrx val loss: 0.022263555627579642\n",
      "Split: 4\n",
      "Epoch: 1, batch: 15099/15099, main train loss: 0.9039165989620044, newrx train loss: 0.024027507698859397\n",
      "Epoch: 1, main val loss: 0.6667264408650106, newrx val loss: 0.023948108561483928\n",
      "Epoch: 2, batch: 15099/15099, main train loss: 0.630533218026485, newrx train loss: 0.0219789833768599155\n",
      "Epoch: 2, main val loss: 0.6417453052218915, newrx val loss: 0.023680741710121554\n",
      "Epoch: 3, batch: 15099/15099, main train loss: 0.5549963741512827, newrx train loss: 0.021476548787693093\n",
      "Epoch: 3, main val loss: 0.6387366325365574, newrx val loss: 0.0226472034609593\n",
      "Split: 5\n",
      "Epoch: 1, batch: 15100/15100, main train loss: 0.9001715242965372, newrx train loss: 0.024804389696828383\n",
      "Epoch: 1, main val loss: 0.7322909858377006, newrx val loss: 0.023944848124341014\n",
      "Epoch: 2, batch: 15100/15100, main train loss: 0.6350671300363895, newrx train loss: 0.022180050752687735\n",
      "Epoch: 2, main val loss: 0.6052834271180509, newrx val loss: 0.022589062690419496\n",
      "Epoch: 3, batch: 15100/15100, main train loss: 0.5645569275859731, newrx train loss: 0.021571448774152912\n",
      "Epoch: 3, main val loss: 0.6207113671383071, newrx val loss: 0.022734343448314258\n",
      "Split: 6\n",
      "Epoch: 1, batch: 15117/15117, main train loss: 0.8973322007434132, newrx train loss: 0.024096617107257107\n",
      "Epoch: 1, main val loss: 0.6640324923440549, newrx val loss: 0.023499775124232663\n",
      "Epoch: 2, batch: 15117/15117, main train loss: 0.6365479192259421, newrx train loss: 0.022077559525843244\n",
      "Epoch: 2, main val loss: 0.6158692454878902, newrx val loss: 0.02253005349002474\n",
      "Epoch: 3, batch: 15117/15117, main train loss: 0.5645958173687217, newrx train loss: 0.021351997170062312\n",
      "Epoch: 3, main val loss: 0.5799588146921876, newrx val loss: 0.022462714897104042\n",
      "Split: 7\n",
      "Epoch: 1, batch: 15110/15110, main train loss: 0.9031635072010532, newrx train loss: 0.024341446189673976\n",
      "Epoch: 1, main val loss: 0.664538365249854, newrx val loss: 0.02413848537401605\n",
      "Epoch: 2, batch: 15110/15110, main train loss: 0.6318081061626555, newrx train loss: 0.022345367160999484\n",
      "Epoch: 2, main val loss: 0.5915461202663204, newrx val loss: 0.022495761330939647\n",
      "Epoch: 3, batch: 15110/15110, main train loss: 0.5553713642428796, newrx train loss: 0.021884791323119155\n",
      "Epoch: 3, main val loss: 0.5732284912973026, newrx val loss: 0.02272239937023683\n",
      "Split: 8\n",
      "Epoch: 1, batch: 15081/15081, main train loss: 0.8989834643283757, newrx train loss: 0.024659862077595386\n",
      "Epoch: 1, main val loss: 0.6528427298680242, newrx val loss: 0.02294051167682824\n",
      "Epoch: 2, batch: 15081/15081, main train loss: 0.6312227885583453, newrx train loss: 0.022452725265340683\n",
      "Epoch: 2, main val loss: 0.5987382981712971, newrx val loss: 0.022480504710035522\n",
      "Epoch: 3, batch: 15081/15081, main train loss: 0.5584278593365135, newrx train loss: 0.021593100450779716\n",
      "Epoch: 3, main val loss: 0.6214917296110981, newrx val loss: 0.02321501550886882\n",
      "Split: 9\n",
      "Epoch: 1, batch: 15101/15101, main train loss: 0.9139972965230622, newrx train loss: 0.025216651730052352\n",
      "Epoch: 1, main val loss: 0.6901358647263928, newrx val loss: 0.024853128336008036\n",
      "Epoch: 2, batch: 15101/15101, main train loss: 0.6436567654120139, newrx train loss: 0.022018867279160945\n",
      "Epoch: 2, main val loss: 0.6063356729239555, newrx val loss: 0.022668765192137365\n",
      "Epoch: 3, batch: 15101/15101, main train loss: 0.570412463140854, newrx train loss: 0.0213657137947714726\n",
      "Epoch: 3, main val loss: 0.5910752884839349, newrx val loss: 0.021753521929098588\n"
     ]
    }
   ],
   "source": [
    "for i in range(len(splits)):\n",
    "    \n",
    "    this_trainlist = list(set(train_actual_patients) - set(splits[i]))\n",
    "    num_in_trainlist = len(this_trainlist)\n",
    "    \n",
    "    trainloader = data.DataLoader(PrognosisDataset(train_actual[train_actual.dfci_mrn.isin(this_trainlist)].reset_index(drop=True)), batch_size=1, num_workers=0, shuffle=True)\n",
    "    validloader = data.DataLoader(PrognosisDataset(valid_actual), batch_size=1, num_workers=0, shuffle=True)\n",
    "\n",
    "\n",
    "    model = PrognosisModel()\n",
    "    model.to('cuda')\n",
    "\n",
    "    print('Split: ' + str(i))\n",
    "    train_model(model, 3, trainloader, validloader)\n",
    "    torch.save(model.state_dict(), derived_data_folder + 'rnn_direct_hazard_dropout_rehazard_' + str(i) + '.pt')\n"
   ]
  },
  {
   "cell_type": "code",
   "execution_count": 127,
   "metadata": {},
   "outputs": [
    {
     "data": {
      "text/plain": [
       "range(0, 10)"
      ]
     },
     "execution_count": 127,
     "metadata": {},
     "output_type": "execute_result"
    }
   ],
   "source": [
    "range(len(splits))"
   ]
  },
  {
   "cell_type": "code",
   "execution_count": 130,
   "metadata": {},
   "outputs": [],
   "source": [
    "# evaluate and make datasets\n",
    "for i in range(len(splits)):\n",
    "\n",
    "    model = PrognosisModel()\n",
    "    model.load_state_dict(torch.load(derived_data_folder+'rnn_direct_hazard_dropout_rehazard_' + str(i) + '.pt'))\n",
    "    model.to('cuda')\n",
    "    this_trainlist = list(set(splits[i]).intersection(set(training_patients)))\n",
    "\n",
    "    trainloader = data.DataLoader(PrognosisDataset(training[training.dfci_mrn.isin(this_trainlist)].reset_index(drop=True)), batch_size=1, num_workers=0, shuffle=False)\n",
    "\n",
    "\n",
    "    sample_number = 10\n",
    "    \n",
    "    dflist = []\n",
    "    \n",
    "    for a,b,c, _, _ in trainloader:\n",
    "        thisframe = pd.DataFrame()\n",
    "        sample_list = []\n",
    "        newrx_list = []\n",
    "        for j in range(sample_number):\n",
    "            with torch.no_grad():\n",
    "                y_pred, newrx_pred = themodel(a.to('cuda'), b.to('cuda'), c.to('cuda'))\n",
    "            logits = torch.log(y_pred.squeeze(1))\n",
    "            newrx = newrx_pred.squeeze(1)\n",
    "            sample_list.append(logits)\n",
    "            newrx_list.append(newrx)\n",
    "\n",
    "        samples = torch.stack(sample_list, dim=1)\n",
    "        newrxs = torch.stack(newrx_list, dim=1)\n",
    "\n",
    "\n",
    "        thisframe['logit_mean'] = torch.mean(samples, dim=1).cpu().detach().numpy()\n",
    "        thisframe['logit_sd'] = torch.std(samples, dim=1).cpu().detach().numpy()\n",
    "        thisframe['newrx_mean'] = torch.mean(newrxs, dim=1).cpu().detach().numpy()\n",
    "        thisframe['newrx_sd'] = torch.std(newrxs, dim=1).cpu().detach().numpy()\n",
    "        thisframe['calc_diff_logit'] = thisframe.logit_mean.diff()\n",
    "        thisframe['ewm_logit'] = thisframe[['logit_mean']].apply(lambda x: x.ewm(span=7).mean()).values.flatten()\n",
    "        thisframe['diff_logit_ewm'] = thisframe['logit_mean'] - thisframe['ewm_logit'].shift(periods=1)\n",
    "\n",
    "\n",
    "        dflist.append(thisframe)\n",
    "\n",
    "    resultframe = pd.concat(dflist, axis=0)\n",
    "    resultframe = resultframe.reset_index(drop=True)\n",
    "\n",
    "\n",
    "    output = training[training.dfci_mrn.isin(this_trainlist)].reset_index(drop=True)\n",
    "    output = output.sort_values(by=['dfci_mrn','encounter_date'])\n",
    "\n",
    "    train_output = pd.concat([output, resultframe], axis=1)\n",
    "    train_output = train_output.sort_values(by=['dfci_mrn', 'encounter_date']).reset_index(drop=True)\n",
    "\n",
    "    train_output.to_feather(derived_data_folder + 'training_'+str(i)+'_predicted_prognoses_rnn_rehazard.feather')\n"
   ]
  },
  {
   "cell_type": "code",
   "execution_count": 131,
   "metadata": {},
   "outputs": [],
   "source": [
    "dataset_list = []\n",
    "for i in range(10):\n",
    "    thisset = pd.read_feather(derived_data_folder+'training_'+str(i)+'_predicted_prognoses_rnn_rehazard.feather')\n",
    "    thisset['split'] = 'train_' + str(i)\n",
    "    dataset_list.append(thisset)\n",
    "\n",
    "valid = pd.read_feather(derived_data_folder +'valid_predicted_prognoses_rnn_rehazard.feather')\n",
    "valid['split'] = 'validation'\n",
    "dataset_list.append(valid)\n",
    "\n",
    "test = pd.read_feather(derived_data_folder +'test_predicted_prognoses_rnn_rehazard.feather')\n",
    "test['split'] = 'test'\n",
    "dataset_list.append(test)"
   ]
  },
  {
   "cell_type": "code",
   "execution_count": 133,
   "metadata": {},
   "outputs": [],
   "source": [
    "all_profile_no_test = pd.concat(dataset_list, axis=0)\n",
    "all_profile_no_test = all_profile_no_test.sort_values(by=['dfci_mrn', 'encounter_date']).reset_index(drop=True)\n",
    "\n",
    "\n",
    "\n",
    "all_profile_no_test['genomic_report_date'] = all_profile_no_test['report_dt']\n",
    "#all_profile_no_test['genomic_specimen_date'] = all_profile_no_test['specimen_date']\n",
    "all_profile_no_test = all_profile_no_test[['dfci_mrn', 'primary_cancer_diagnosis', 'encounter_date', 'text', 'encounter_to_end', 'event', 'event_date', 'after_palliative', 'after_profile', 'died_180d', 'new_rx_30d','genomic_report_date', 'split', 'starttime', 'time', 'logit_mean', 'logit_sd', 'newrx_mean', 'newrx_sd','calc_diff_logit', 'ewm_logit', 'diff_logit_ewm']]\n",
    "all_profile_no_test.to_feather(derived_data_folder+'all_profile_predicted_prognoses_rnn_rehazard.feather')"
   ]
  },
  {
   "cell_type": "code",
   "execution_count": 134,
   "metadata": {},
   "outputs": [],
   "source": [
    "import pandas as pd\n",
    "progdata = pd.read_feather(derived_data_folder+'all_profile_predicted_prognoses_rnn_rehazard.feather')"
   ]
  },
  {
   "cell_type": "code",
   "execution_count": 136,
   "metadata": {},
   "outputs": [
    {
     "data": {
      "text/plain": [
       "test          46684\n",
       "validation    44003\n",
       "train_8       38460\n",
       "train_6       38220\n",
       "train_2       37771\n",
       "train_5       36861\n",
       "train_7       36592\n",
       "train_3       36555\n",
       "train_9       36356\n",
       "train_1       36159\n",
       "train_0       36094\n",
       "train_4       35470\n",
       "Name: split, dtype: int64"
      ]
     },
     "execution_count": 136,
     "metadata": {},
     "output_type": "execute_result"
    }
   ],
   "source": [
    "progdata.split.value_counts()"
   ]
  },
  {
   "cell_type": "code",
   "execution_count": null,
   "metadata": {},
   "outputs": [],
   "source": []
  }
 ],
 "metadata": {
  "kernelspec": {
   "display_name": "Python 3",
   "language": "python",
   "name": "python3"
  },
  "language_info": {
   "codemirror_mode": {
    "name": "ipython",
    "version": 3
   },
   "file_extension": ".py",
   "mimetype": "text/x-python",
   "name": "python",
   "nbconvert_exporter": "python",
   "pygments_lexer": "ipython3",
   "version": "3.7.9"
  }
 },
 "nbformat": 4,
 "nbformat_minor": 4
}
